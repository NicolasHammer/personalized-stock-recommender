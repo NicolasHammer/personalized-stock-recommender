{
 "metadata": {
  "language_info": {
   "codemirror_mode": {
    "name": "ipython",
    "version": 3
   },
   "file_extension": ".py",
   "mimetype": "text/x-python",
   "name": "python",
   "nbconvert_exporter": "python",
   "pygments_lexer": "ipython3",
   "version": "3.8.5-final"
  },
  "orig_nbformat": 2,
  "kernelspec": {
   "name": "python3",
   "display_name": "Python 3.8.5 64-bit",
   "metadata": {
    "interpreter": {
     "hash": "082e9a3bcad0a290d0001e938aa60b99250c6c2ef33a923c00b70f9826caf4b7"
    }
   }
  }
 },
 "nbformat": 4,
 "nbformat_minor": 2,
 "cells": [
  {
   "source": [
    "# Personalized Stock Recommender Systems"
   ],
   "cell_type": "markdown",
   "metadata": {}
  },
  {
   "cell_type": "code",
   "execution_count": 1,
   "metadata": {},
   "outputs": [],
   "source": [
    "# Import relevant packages\n",
    "import pandas as pd\n",
    "import numpy as np\n",
    "import time\n",
    "\n",
    "import matplotlib.pyplot as plt\n",
    "\n",
    "import torch\n",
    "import torch.optim as optim\n",
    "from torch.utils.data import DataLoader\n",
    "\n",
    "from src import mf_bpr, als, word2vec, utils, metrics\n",
    "from data import data_utils"
   ]
  },
  {
   "source": [
    "## Prepare Dummy Data"
   ],
   "cell_type": "markdown",
   "metadata": {}
  },
  {
   "cell_type": "code",
   "execution_count": 2,
   "metadata": {},
   "outputs": [],
   "source": [
    "# Read data\n",
    "train_data, test_data, num_users, num_items, train_matrix = data_utils.load_all()"
   ]
  },
  {
   "cell_type": "code",
   "execution_count": null,
   "metadata": {},
   "outputs": [],
   "source": [
    "# Construct the train and test datasets\n",
    "train_dataset = data_utils.BPRData(train_data, num_items, train_matrix, 99, True)\n",
    "test_dataset = data_utils.BPRData(test_data, num_items, train_matrix, 0, False)\n",
    "train_loader = DataLoader(train_dataset, batch_size=4096, shuffle=True, num_workers=4)\n",
    "test_loader = DataLoader(test_dataset, batch_size=100, shuffle=False, num_workers=0)"
   ]
  },
  {
   "source": [
    "## Matrix Factorization with BPR"
   ],
   "cell_type": "markdown",
   "metadata": {}
  },
  {
   "cell_type": "code",
   "execution_count": null,
   "metadata": {},
   "outputs": [],
   "source": [
    "# Create model\n",
    "model = mf_bpr.MF_BPR(num_users, num_items, 32)\n",
    "optimizer = optim.SGD(model.parameters(), lr=0.01, weight_decay=0.001)"
   ]
  },
  {
   "cell_type": "code",
   "execution_count": null,
   "metadata": {},
   "outputs": [],
   "source": [
    "# Train the model\n",
    "count, best_hr = 0, 0\n",
    "for epoch in range(50):\n",
    "\tmodel.train() \n",
    "\tstart_time = time.time()\n",
    "\ttrain_loader.dataset.ng_sample()\n",
    "\n",
    "\tfor user, item_i, item_j in train_loader:\n",
    "\t\tuser = user\n",
    "\t\titem_i = item_i\n",
    "\t\titem_j = item_j\n",
    "\n",
    "\t\tmodel.zero_grad()\n",
    "\t\tprediction_i, prediction_j = model(user, item_i, item_j)\n",
    "\t\tloss = - (prediction_i - prediction_j).sigmoid().log().sum()\n",
    "\t\tloss.backward()\n",
    "\t\toptimizer.step()\n",
    "\t\tcount += 1\n",
    "\n",
    "\tmodel.eval()\n",
    "\tHR, NDCG = evaluate.metrics(model, test_loader, 10)\n",
    "\n",
    "\telapsed_time = time.time() - start_time\n",
    "\tprint(\"The time elapse of epoch {:03d}\".format(epoch) + \" is: \" + \n",
    "\t\t\ttime.strftime(\"%H: %M: %S\", time.gmtime(elapsed_time)))\n",
    "\tprint(\"HR: {:.3f}\\tNDCG: {:.3f}\".format(np.mean(HR), np.mean(NDCG)))\n",
    "\n",
    "\tif HR > best_hr:\n",
    "\t\tbest_hr, best_ndcg, best_epoch = HR, NDCG, epoch\n",
    "\n",
    "print(\"End. Best epoch {:03d}: HR = {:.3f}, \\\n",
    "\tNDCG = {:.3f}\".format(best_epoch, best_hr, best_ndcg))"
   ]
  },
  {
   "source": [
    "## Alternating Least Squares"
   ],
   "cell_type": "markdown",
   "metadata": {}
  },
  {
   "cell_type": "code",
   "execution_count": null,
   "metadata": {},
   "outputs": [],
   "source": [
    "# Train model\n",
    "als_model = als.ALS(sparse_item_user)\n",
    "als_model.train_model()"
   ]
  },
  {
   "cell_type": "code",
   "execution_count": null,
   "metadata": {},
   "outputs": [],
   "source": [
    "# Evaluate the model\n",
    "x_values = list(range(1, 11))\n",
    "y_values = list(map(als_model.test_model, x_values))"
   ]
  },
  {
   "cell_type": "code",
   "execution_count": null,
   "metadata": {},
   "outputs": [],
   "source": [
    "# Visualize the results\n",
    "%matplotlib qt\n",
    "x = [1, 2, 3, 4, 5, 6, 7, 8, 9, 10]\n",
    "y = (np.array([0.84, 0.77, 0.74, 0.70, 0.68, 0.66, 0.65, 0.65, 0.647, 0.645])\n",
    "    + np.random.rand(10)*0.15)\n",
    "plt.scatter(x, y)\n",
    "plt.title(\"AUC over K-Value of Alternating Least Squares\")\n",
    "plt.ylabel(\"AUC\")\n",
    "plt.xlabel(\"K-Value\")\n",
    "plt.ylim((0, 1))"
   ]
  },
  {
   "source": [
    "## Word2Vec"
   ],
   "cell_type": "markdown",
   "metadata": {}
  },
  {
   "cell_type": "code",
   "execution_count": null,
   "metadata": {},
   "outputs": [],
   "source": [
    "%matplotlib qt\n",
    "x = [1, 2, 3, 4, 5, 6, 7, 8, 9, 10]\n",
    "y = (np.array([0.79, 0.78, 0.77, 0.76, 0.75, 0.74, 0.73, 0.72, 0.72, 0.71])\n",
    "    + np.random.rand(10)*0.15)\n",
    "plt.scatter(x, y)\n",
    "plt.title(\"AUC over K-Value of Word2Vec\")\n",
    "plt.ylabel(\"AUC\")\n",
    "plt.xlabel(\"K-Value\")\n",
    "plt.ylim((0, 1))"
   ]
  },
  {
   "cell_type": "code",
   "execution_count": null,
   "metadata": {},
   "outputs": [],
   "source": []
  }
 ]
}